{
 "cells": [
  {
   "cell_type": "code",
   "execution_count": 1,
   "metadata": {},
   "outputs": [],
   "source": [
    "from keras.datasets import imdb"
   ]
  },
  {
   "cell_type": "code",
   "execution_count": 2,
   "metadata": {},
   "outputs": [
    {
     "name": "stdout",
     "output_type": "stream",
     "text": [
      "Downloading data from https://s3.amazonaws.com/text-datasets/imdb.npz\n",
      "17465344/17464789 [==============================] - 33s 2us/step\n"
     ]
    }
   ],
   "source": [
    "(train_data, train_labels), (test_data, test_labels) = imdb.load_data(num_words=10000)"
   ]
  },
  {
   "cell_type": "code",
   "execution_count": 3,
   "metadata": {},
   "outputs": [
    {
     "data": {
      "text/plain": [
       "9999"
      ]
     },
     "execution_count": 3,
     "metadata": {},
     "output_type": "execute_result"
    }
   ],
   "source": [
    "max([max(sequence) for sequence in train_data])"
   ]
  },
  {
   "cell_type": "code",
   "execution_count": 9,
   "metadata": {},
   "outputs": [
    {
     "data": {
      "text/plain": [
       "\"? this film was just brilliant casting location scenery story direction everyone's really suited the part they played and you could just imagine being there robert ? is an amazing actor and now the same being director ? father came from the same scottish island as myself so i loved the fact there was a real connection with this film the witty remarks throughout the film were great it was just brilliant so much that i bought the film as soon as it was released for ? and would recommend it to everyone to watch and the fly fishing was amazing really cried at the end it was so sad and you know what they say if you cry at a film it must have been good and this definitely was also ? to the two little boy's that played the ? of norman and paul they were just brilliant children are often left out of the ? list i think because the stars that play them all grown up are such a big profile for the whole film but these children are amazing and should be praised for what they have done don't you think the whole story was so lovely because it was true and was someone's life after all that was shared with us all\""
      ]
     },
     "execution_count": 9,
     "metadata": {},
     "output_type": "execute_result"
    }
   ],
   "source": [
    "word_index = imdb.get_word_index()\n",
    "reverse_word_index = dict([(value, key) for (key, value) in word_index.items()])\n",
    "decoded_review = ' '.join([reverse_word_index.get(i - 3, '?') for i in train_data[0]])\n",
    "decoded_review"
   ]
  },
  {
   "cell_type": "code",
   "execution_count": 11,
   "metadata": {},
   "outputs": [],
   "source": [
    "import numpy as np\n",
    "\n",
    "def vectorize_sequence(sequences, dimension=10000):\n",
    "    results = np.zeros((len(sequences), dimension))\n",
    "    for i, sequence in enumerate(sequences):\n",
    "        results[i, sequence] = 1\n",
    "    return results\n",
    "\n",
    "x_train = vectorize_sequence(train_data)\n",
    "x_test = vectorize_sequence(test_data)"
   ]
  },
  {
   "cell_type": "code",
   "execution_count": 19,
   "metadata": {},
   "outputs": [],
   "source": [
    "y_train = np.asarray(train_labels).astype('float32')\n",
    "y_test = np.asarray(test_labels).astype('float32')"
   ]
  },
  {
   "cell_type": "code",
   "execution_count": 20,
   "metadata": {},
   "outputs": [],
   "source": [
    "from keras import models\n",
    "from keras import layers\n",
    "\n",
    "model = models.Sequential()\n",
    "model.add(layers.Dense(16, activation='relu', input_shape=(10000, )))\n",
    "model.add(layers.Dense(16, activation='relu'))\n",
    "model.add(layers.Dense(1, activation='sigmoid')) # 活性化関数：シグモイド"
   ]
  },
  {
   "cell_type": "code",
   "execution_count": 21,
   "metadata": {},
   "outputs": [],
   "source": [
    "# モデルのコンパイル\n",
    "\n",
    "model.compile(optimizer='rmsprop',\n",
    "             loss='binary_crossentropy', # 損失関数：二値の交差エントロピー\n",
    "             metrics=['accuracy'])"
   ]
  },
  {
   "cell_type": "code",
   "execution_count": 22,
   "metadata": {},
   "outputs": [],
   "source": [
    "# オプティマイザの設定\n",
    "\n",
    "from keras import optimizers\n",
    "\n",
    "model.compile(optimizer=optimizers.RMSprop(lr=0.001),\n",
    "             loss='binary_crossentropy',\n",
    "             metrics=['accuracy'])"
   ]
  },
  {
   "cell_type": "code",
   "execution_count": 23,
   "metadata": {},
   "outputs": [],
   "source": [
    "# カスタム損失関数とカスタム指標の使用\n",
    "\n",
    "from keras import losses\n",
    "from keras import metrics\n",
    "\n",
    "model.compile(optimizer=optimizers.RMSprop(lr=0.001),\n",
    "             loss='binary_crossentropy',\n",
    "             metrics=[metrics.binary_accuracy])"
   ]
  },
  {
   "cell_type": "code",
   "execution_count": 25,
   "metadata": {},
   "outputs": [],
   "source": [
    "x_val = x_train[:10000]\n",
    "partial_x_train = x_train[10000:]\n",
    "\n",
    "y_val = y_train[:10000]\n",
    "partial_y_train = y_train[10000:]"
   ]
  },
  {
   "cell_type": "code",
   "execution_count": 29,
   "metadata": {},
   "outputs": [
    {
     "name": "stdout",
     "output_type": "stream",
     "text": [
      "Train on 15000 samples, validate on 10000 samples\n",
      "Epoch 1/20\n",
      "15000/15000 [==============================] - 2s 136us/step - loss: 0.5046 - acc: 0.7883 - val_loss: 0.3777 - val_acc: 0.8709\n",
      "Epoch 2/20\n",
      "15000/15000 [==============================] - 1s 85us/step - loss: 0.2991 - acc: 0.9045 - val_loss: 0.3002 - val_acc: 0.8895\n",
      "Epoch 3/20\n",
      "15000/15000 [==============================] - 1s 86us/step - loss: 0.2173 - acc: 0.9282 - val_loss: 0.3076 - val_acc: 0.8723\n",
      "Epoch 4/20\n",
      "15000/15000 [==============================] - 1s 84us/step - loss: 0.1747 - acc: 0.9439 - val_loss: 0.2825 - val_acc: 0.8843\n",
      "Epoch 5/20\n",
      "15000/15000 [==============================] - 1s 89us/step - loss: 0.1420 - acc: 0.9543 - val_loss: 0.2858 - val_acc: 0.8855\n",
      "Epoch 6/20\n",
      "15000/15000 [==============================] - 1s 85us/step - loss: 0.1147 - acc: 0.9651 - val_loss: 0.3123 - val_acc: 0.8789\n",
      "Epoch 7/20\n",
      "15000/15000 [==============================] - 1s 82us/step - loss: 0.0977 - acc: 0.9709 - val_loss: 0.3132 - val_acc: 0.8840\n",
      "Epoch 8/20\n",
      "15000/15000 [==============================] - 1s 87us/step - loss: 0.0803 - acc: 0.9765 - val_loss: 0.3868 - val_acc: 0.8656\n",
      "Epoch 9/20\n",
      "15000/15000 [==============================] - 1s 82us/step - loss: 0.0659 - acc: 0.9821 - val_loss: 0.3644 - val_acc: 0.8772\n",
      "Epoch 10/20\n",
      "15000/15000 [==============================] - 1s 83us/step - loss: 0.0564 - acc: 0.9851 - val_loss: 0.3851 - val_acc: 0.8787\n",
      "Epoch 11/20\n",
      "15000/15000 [==============================] - 1s 83us/step - loss: 0.0425 - acc: 0.9906 - val_loss: 0.4131 - val_acc: 0.8773\n",
      "Epoch 12/20\n",
      "15000/15000 [==============================] - 1s 87us/step - loss: 0.0374 - acc: 0.9921 - val_loss: 0.4612 - val_acc: 0.8681\n",
      "Epoch 13/20\n",
      "15000/15000 [==============================] - 1s 83us/step - loss: 0.0298 - acc: 0.9931 - val_loss: 0.4717 - val_acc: 0.8733\n",
      "Epoch 14/20\n",
      "15000/15000 [==============================] - 1s 83us/step - loss: 0.0249 - acc: 0.9944 - val_loss: 0.5048 - val_acc: 0.8727\n",
      "Epoch 15/20\n",
      "15000/15000 [==============================] - 1s 84us/step - loss: 0.0201 - acc: 0.9966 - val_loss: 0.5317 - val_acc: 0.8707\n",
      "Epoch 16/20\n",
      "15000/15000 [==============================] - 1s 87us/step - loss: 0.0143 - acc: 0.9985 - val_loss: 0.5702 - val_acc: 0.8691\n",
      "Epoch 17/20\n",
      "15000/15000 [==============================] - 1s 84us/step - loss: 0.0145 - acc: 0.9975 - val_loss: 0.6026 - val_acc: 0.8664\n",
      "Epoch 18/20\n",
      "15000/15000 [==============================] - 1s 85us/step - loss: 0.0106 - acc: 0.9981 - val_loss: 0.6325 - val_acc: 0.8675\n",
      "Epoch 19/20\n",
      "15000/15000 [==============================] - 1s 85us/step - loss: 0.0057 - acc: 0.9998 - val_loss: 0.6984 - val_acc: 0.8592\n",
      "Epoch 20/20\n",
      "15000/15000 [==============================] - 1s 91us/step - loss: 0.0082 - acc: 0.9986 - val_loss: 0.6908 - val_acc: 0.8646\n"
     ]
    }
   ],
   "source": [
    "model.compile(optimizer='rmsprop',\n",
    "            loss='binary_crossentropy',\n",
    "            metrics=['acc'])\n",
    "\n",
    "history = model.fit(partial_x_train,\n",
    "                   partial_y_train,\n",
    "                   epochs=20,\n",
    "                   batch_size=512,\n",
    "                   validation_data=(x_val, y_val))"
   ]
  },
  {
   "cell_type": "code",
   "execution_count": 30,
   "metadata": {},
   "outputs": [
    {
     "data": {
      "text/plain": [
       "dict_keys(['val_loss', 'val_acc', 'loss', 'acc'])"
      ]
     },
     "execution_count": 30,
     "metadata": {},
     "output_type": "execute_result"
    }
   ],
   "source": [
    "history.history.keys()"
   ]
  },
  {
   "cell_type": "code",
   "execution_count": 33,
   "metadata": {},
   "outputs": [
    {
     "data": {
      "image/png": "[encoded data removed]",
      "text/plain": [
       "<Figure size 432x288 with 1 Axes>"
      ]
     },
     "metadata": {},
     "output_type": "display_data"
    }
   ],
   "source": [
    "import matplotlib.pyplot as plt\n",
    "\n",
    "history_dict = history.history\n",
    "loss_values = history_dict['loss']\n",
    "val_loss_values = history_dict['val_loss']\n",
    "\n",
    "epochs = range(1, len(loss_values) + 1)\n",
    "\n",
    "plt.plot(epochs, loss_values, 'bo', label='Training loss')\n",
    "plt.plot(epochs, val_loss_values, 'b', label='Validation loss')\n",
    "plt.title('Training and validation loss')\n",
    "plt.xlabel('Epochs')\n",
    "plt.ylabel('Loss')\n",
    "plt.legend()\n",
    "plt.show()"
   ]
  },
  {
   "cell_type": "code",
   "execution_count": 34,
   "metadata": {
    "scrolled": true
   },
   "outputs": [
    {
     "data": {
      "image/png": "[encoded data removed]",
      "text/plain": [
       "<Figure size 432x288 with 1 Axes>"
      ]
     },
     "metadata": {},
     "output_type": "display_data"
    }
   ],
   "source": [
    "import matplotlib.pyplot as plt\n",
    "\n",
    "history_dict = history.history\n",
    "acc_values = history_dict['acc']\n",
    "val_acc_values = history_dict['val_acc']\n",
    "\n",
    "epochs = range(1, len(loss_values) + 1)\n",
    "\n",
    "plt.plot(epochs, acc_values, 'bo', label='Training acc')\n",
    "plt.plot(epochs, val_acc_values, 'b', label='Validation acc')\n",
    "plt.title('Training and validation acc')\n",
    "plt.xlabel('Epochs')\n",
    "plt.ylabel('Acc')\n",
    "plt.legend()\n",
    "plt.show()"
   ]
  },
  {
   "cell_type": "code",
   "execution_count": 36,
   "metadata": {},
   "outputs": [
    {
     "name": "stdout",
     "output_type": "stream",
     "text": [
      "Epoch 1/4\n",
      "25000/25000 [==============================] - 2s 67us/step - loss: 0.4750 - acc: 0.8215\n",
      "Epoch 2/4\n",
      "25000/25000 [==============================] - 1s 56us/step - loss: 0.2664 - acc: 0.9099\n",
      "Epoch 3/4\n",
      "25000/25000 [==============================] - 1s 56us/step - loss: 0.1984 - acc: 0.9292\n",
      "Epoch 4/4\n",
      "25000/25000 [==============================] - 1s 56us/step - loss: 0.1681 - acc: 0.9400\n",
      "25000/25000 [==============================] - 2s 62us/step\n"
     ]
    }
   ],
   "source": [
    "model = models.Sequential()\n",
    "model.add(layers.Dense(16, activation='relu', input_shape=(10000, )))\n",
    "model.add(layers.Dense(16, activation='relu'))\n",
    "model.add(layers.Dense(1, activation='sigmoid'))\n",
    "\n",
    "model.compile(optimizer='rmsprop',\n",
    "             loss='binary_crossentropy',\n",
    "             metrics=['accuracy'])\n",
    "\n",
    "model.fit(x_train, y_train, epochs=4, batch_size=512)\n",
    "results = model.evaluate(x_test, y_test)"
   ]
  },
  {
   "cell_type": "code",
   "execution_count": 37,
   "metadata": {},
   "outputs": [
    {
     "data": {
      "text/plain": [
       "[0.32534594853401183, 0.8728]"
      ]
     },
     "execution_count": 37,
     "metadata": {},
     "output_type": "execute_result"
    }
   ],
   "source": [
    "results"
   ]
  }
 ],
 "metadata": {
  "kernelspec": {
   "display_name": "Python 3",
   "language": "python",
   "name": "python3"
  },
  "language_info": {
   "codemirror_mode": {
    "name": "ipython",
    "version": 3
   },
   "file_extension": ".py",
   "mimetype": "text/x-python",
   "name": "python",
   "nbconvert_exporter": "python",
   "pygments_lexer": "ipython3",
   "version": "3.6.5"
  }
 },
 "nbformat": 4,
 "nbformat_minor": 2
}
