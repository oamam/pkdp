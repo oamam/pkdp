{
 "cells": [
  {
   "cell_type": "code",
   "execution_count": 1,
   "metadata": {},
   "outputs": [
    {
     "name": "stdout",
     "output_type": "stream",
     "text": [
      "Downloading data from https://s3.amazonaws.com/text-datasets/reuters.npz\n",
      "2113536/2110848 [==============================] - 10s 5us/step\n"
     ]
    }
   ],
   "source": [
    "from keras.datasets import reuters\n",
    "\n",
    "(train_data, train_labels), (test_data, test_labels) = reuters.load_data(num_words=10000)"
   ]
  },
  {
   "cell_type": "code",
   "execution_count": 8,
   "metadata": {},
   "outputs": [
    {
     "data": {
      "text/plain": [
       "'? ? ? said as a result of its december acquisition of space co it expects earnings per share in 1987 of 1 15 to 1 30 dlrs per share up from 70 cts in 1986 the company said pretax net should rise to nine to 10 mln dlrs from six mln dlrs in 1986 and rental operation revenues to 19 to 22 mln dlrs from 12 5 mln dlrs it said cash flow per share this year should be 2 50 to three dlrs reuter 3'"
      ]
     },
     "execution_count": 8,
     "metadata": {},
     "output_type": "execute_result"
    }
   ],
   "source": [
    "word_index = reuters.get_word_index()\n",
    "reverse_word_index = dict([(value, key) for (key, value) in word_index.items()])\n",
    "decoded_newswire = ' '.join([reverse_word_index.get(i - 3, '?') for i in train_data[0]])\n",
    "decoded_newswire"
   ]
  },
  {
   "cell_type": "code",
   "execution_count": 9,
   "metadata": {},
   "outputs": [],
   "source": [
    "import numpy as np\n",
    "\n",
    "def vectorize_sequence(sequences, dimension=10000):\n",
    "    results = np.zeros((len(sequences), dimension))\n",
    "    for i, sequence in enumerate(sequences):\n",
    "        results[i, sequence] = 1\n",
    "    return results\n",
    "\n",
    "x_train = vectorize_sequence(train_data)\n",
    "x_test = vectorize_sequence(test_data)"
   ]
  },
  {
   "cell_type": "code",
   "execution_count": 16,
   "metadata": {},
   "outputs": [],
   "source": [
    "def to_one_hot(labels, dimension=46):\n",
    "    results = np.zeros((len(labels), dimension))\n",
    "    for i, label in enumerate(labels):\n",
    "        results[i, label] = 1\n",
    "    return results\n",
    "\n",
    "one_hot_train_labels = to_one_hot(train_labels)\n",
    "one_hot_test_labels = to_one_hot(test_labels)"
   ]
  },
  {
   "cell_type": "code",
   "execution_count": 17,
   "metadata": {},
   "outputs": [],
   "source": [
    "from keras.utils.np_utils import to_categorical\n",
    "\n",
    "one_hot_train_labels = to_categorical(train_labels)\n",
    "one_hot_test_labels = to_categorical(test_labels)"
   ]
  },
  {
   "cell_type": "code",
   "execution_count": 19,
   "metadata": {},
   "outputs": [],
   "source": [
    "from keras import models\n",
    "from keras import layers\n",
    "\n",
    "model = models.Sequential()\n",
    "model.add(layers.Dense(64, activation='relu', input_shape=(10000, )))\n",
    "model.add(layers.Dense(64, activation='relu'))\n",
    "model.add(layers.Dense(46, activation='softmax')) # 活性化関数：ソフトマックス関数"
   ]
  },
  {
   "cell_type": "code",
   "execution_count": 21,
   "metadata": {},
   "outputs": [],
   "source": [
    "model.compile(optimizer='rmsprop', # 最適化手法：RMSprop\n",
    "             loss='categorical_crossentropy', # 損失関数：Nクラス分類時の交差エントロピー\n",
    "             metrics=['accuracy']) # 評価関数：正解率"
   ]
  },
  {
   "cell_type": "code",
   "execution_count": 22,
   "metadata": {},
   "outputs": [],
   "source": [
    "x_val = x_train[:1000]\n",
    "partial_x_train = x_train[1000:]\n",
    "\n",
    "y_val = one_hot_train_labels[:1000]\n",
    "partial_y_train = one_hot_train_labels[1000:]"
   ]
  },
  {
   "cell_type": "code",
   "execution_count": 23,
   "metadata": {},
   "outputs": [
    {
     "name": "stdout",
     "output_type": "stream",
     "text": [
      "Train on 7982 samples, validate on 1000 samples\n",
      "Epoch 1/20\n",
      "7982/7982 [==============================] - 1s 148us/step - loss: 2.5240 - acc: 0.4976 - val_loss: 1.7179 - val_acc: 0.6120\n",
      "Epoch 2/20\n",
      "7982/7982 [==============================] - 1s 84us/step - loss: 1.4441 - acc: 0.6885 - val_loss: 1.3501 - val_acc: 0.7080\n",
      "Epoch 3/20\n",
      "7982/7982 [==============================] - 1s 82us/step - loss: 1.0997 - acc: 0.7636 - val_loss: 1.1758 - val_acc: 0.7420\n",
      "Epoch 4/20\n",
      "7982/7982 [==============================] - 1s 81us/step - loss: 0.8737 - acc: 0.8156 - val_loss: 1.0826 - val_acc: 0.7590\n",
      "Epoch 5/20\n",
      "7982/7982 [==============================] - 1s 81us/step - loss: 0.7071 - acc: 0.8487 - val_loss: 0.9880 - val_acc: 0.7820\n",
      "Epoch 6/20\n",
      "7982/7982 [==============================] - 1s 91us/step - loss: 0.5704 - acc: 0.8791 - val_loss: 0.9418 - val_acc: 0.8030\n",
      "Epoch 7/20\n",
      "7982/7982 [==============================] - 1s 86us/step - loss: 0.4634 - acc: 0.9037 - val_loss: 0.9083 - val_acc: 0.8010\n",
      "Epoch 8/20\n",
      "7982/7982 [==============================] - 1s 83us/step - loss: 0.3735 - acc: 0.9223 - val_loss: 0.9349 - val_acc: 0.7900\n",
      "Epoch 9/20\n",
      "7982/7982 [==============================] - 1s 89us/step - loss: 0.3056 - acc: 0.9313 - val_loss: 0.8917 - val_acc: 0.8050\n",
      "Epoch 10/20\n",
      "7982/7982 [==============================] - 1s 82us/step - loss: 0.2551 - acc: 0.9417 - val_loss: 0.9036 - val_acc: 0.8140\n",
      "Epoch 11/20\n",
      "7982/7982 [==============================] - 1s 83us/step - loss: 0.2193 - acc: 0.9470 - val_loss: 0.9166 - val_acc: 0.8100\n",
      "Epoch 12/20\n",
      "7982/7982 [==============================] - 1s 90us/step - loss: 0.1880 - acc: 0.9509 - val_loss: 0.9069 - val_acc: 0.8130\n",
      "Epoch 13/20\n",
      "7982/7982 [==============================] - 1s 83us/step - loss: 0.1703 - acc: 0.9525 - val_loss: 0.9320 - val_acc: 0.8090\n",
      "Epoch 14/20\n",
      "7982/7982 [==============================] - 1s 90us/step - loss: 0.1535 - acc: 0.9557 - val_loss: 0.9637 - val_acc: 0.8070\n",
      "Epoch 15/20\n",
      "7982/7982 [==============================] - 1s 83us/step - loss: 0.1387 - acc: 0.9562 - val_loss: 0.9686 - val_acc: 0.8120\n",
      "Epoch 16/20\n",
      "7982/7982 [==============================] - 1s 84us/step - loss: 0.1315 - acc: 0.9557 - val_loss: 1.0238 - val_acc: 0.8050\n",
      "Epoch 17/20\n",
      "7982/7982 [==============================] - 1s 84us/step - loss: 0.1217 - acc: 0.9578 - val_loss: 1.0227 - val_acc: 0.7990\n",
      "Epoch 18/20\n",
      "7982/7982 [==============================] - 1s 83us/step - loss: 0.1196 - acc: 0.9577 - val_loss: 1.0427 - val_acc: 0.8060\n",
      "Epoch 19/20\n",
      "7982/7982 [==============================] - 1s 83us/step - loss: 0.1138 - acc: 0.9590 - val_loss: 1.0934 - val_acc: 0.7950\n",
      "Epoch 20/20\n",
      "7982/7982 [==============================] - 1s 83us/step - loss: 0.1112 - acc: 0.9598 - val_loss: 1.0681 - val_acc: 0.8010\n"
     ]
    }
   ],
   "source": [
    "history = model.fit(partial_x_train,\n",
    "                   partial_y_train,\n",
    "                   epochs=20,\n",
    "                   batch_size=512,\n",
    "                   validation_data=(x_val, y_val))"
   ]
  },
  {
   "cell_type": "code",
   "execution_count": 25,
   "metadata": {
    "scrolled": false
   },
   "outputs": [
    {
     "data": {
      "image/png": "[encoded data removed]",
      "text/plain": [
       "<Figure size 432x288 with 1 Axes>"
      ]
     },
     "metadata": {},
     "output_type": "display_data"
    }
   ],
   "source": [
    "%matplotlib inline\n",
    "import matplotlib.pyplot as plt\n",
    "\n",
    "loss = history.history['loss']\n",
    "val_loss = history.history['val_loss']\n",
    "\n",
    "epochs = range(1, len(loss) + 1)\n",
    "\n",
    "plt.plot(epochs, loss, 'bo', label='Training loss')\n",
    "plt.plot(epochs, val_loss, 'b', label='Validation loss')\n",
    "plt.title('Training and validation loss')\n",
    "plt.xlabel('Epochs')\n",
    "plt.ylabel('Loss')\n",
    "plt.legend()\n",
    "plt.show()"
   ]
  },
  {
   "cell_type": "code",
   "execution_count": 28,
   "metadata": {
    "scrolled": true
   },
   "outputs": [
    {
     "data": {
      "image/png": "[encoded data removed]",
      "text/plain": [
       "<Figure size 432x288 with 1 Axes>"
      ]
     },
     "metadata": {},
     "output_type": "display_data"
    }
   ],
   "source": [
    "import matplotlib.pyplot as plt\n",
    "\n",
    "acc= history.history['acc']\n",
    "val_acc = history.history['val_acc']\n",
    "\n",
    "epochs = range(1, len(acc) + 1)\n",
    "\n",
    "plt.plot(epochs, acc, 'bo', label='Training acc')\n",
    "plt.plot(epochs, val_acc, 'b', label='Validation acc')\n",
    "plt.title('Training and validation acc')\n",
    "plt.xlabel('Epochs')\n",
    "plt.ylabel('Acc')\n",
    "plt.legend()\n",
    "plt.show()"
   ]
  },
  {
   "cell_type": "markdown",
   "metadata": {},
   "source": [
    "上 2 つの結果から、epochs 8 回くらいで過学習している。\n",
    "\n",
    "epochs 回数を 8 回に変えて評価する。"
   ]
  },
  {
   "cell_type": "code",
   "execution_count": 32,
   "metadata": {},
   "outputs": [
    {
     "name": "stdout",
     "output_type": "stream",
     "text": [
      "Train on 7982 samples, validate on 1000 samples\n",
      "Epoch 1/8\n",
      "7982/7982 [==============================] - 1s 112us/step - loss: 2.6121 - acc: 0.5003 - val_loss: 1.7326 - val_acc: 0.6360\n",
      "Epoch 2/8\n",
      "7982/7982 [==============================] - 1s 86us/step - loss: 1.3915 - acc: 0.7030 - val_loss: 1.3040 - val_acc: 0.7080\n",
      "Epoch 3/8\n",
      "7982/7982 [==============================] - 1s 80us/step - loss: 1.0231 - acc: 0.7727 - val_loss: 1.1294 - val_acc: 0.7630\n",
      "Epoch 4/8\n",
      "7982/7982 [==============================] - 1s 82us/step - loss: 0.7993 - acc: 0.8287 - val_loss: 1.0461 - val_acc: 0.7770\n",
      "Epoch 5/8\n",
      "7982/7982 [==============================] - 1s 82us/step - loss: 0.6258 - acc: 0.8672 - val_loss: 1.0056 - val_acc: 0.7890\n",
      "Epoch 6/8\n",
      "7982/7982 [==============================] - 1s 82us/step - loss: 0.5008 - acc: 0.8975 - val_loss: 0.9170 - val_acc: 0.8170\n",
      "Epoch 7/8\n",
      "7982/7982 [==============================] - 1s 85us/step - loss: 0.3982 - acc: 0.9144 - val_loss: 0.8965 - val_acc: 0.8170\n",
      "Epoch 8/8\n",
      "7982/7982 [==============================] - 1s 84us/step - loss: 0.3282 - acc: 0.9291 - val_loss: 0.8945 - val_acc: 0.8140\n",
      "2246/2246 [==============================] - 0s 66us/step\n"
     ]
    },
    {
     "data": {
      "text/plain": [
       "[0.9797330017293656, 0.7836153161175423]"
      ]
     },
     "execution_count": 32,
     "metadata": {},
     "output_type": "execute_result"
    }
   ],
   "source": [
    "model = models.Sequential()\n",
    "model.add(layers.Dense(64, activation='relu', input_shape=(10000, )))\n",
    "model.add(layers.Dense(64, activation='relu'))\n",
    "model.add(layers.Dense(46, activation='softmax'))\n",
    "\n",
    "model.compile(optimizer='rmsprop',\n",
    "             loss='categorical_crossentropy',\n",
    "             metrics=['accuracy'])\n",
    "\n",
    "model.fit(partial_x_train,\n",
    "          partial_y_train,\n",
    "          epochs=8,\n",
    "          batch_size=512,\n",
    "          validation_data=(x_val, y_val))\n",
    "results = model.evaluate(x_test, one_hot_test_labels)\n",
    "results"
   ]
  },
  {
   "cell_type": "code",
   "execution_count": 34,
   "metadata": {},
   "outputs": [],
   "source": [
    "predictions = model.predict(x_test)"
   ]
  },
  {
   "cell_type": "code",
   "execution_count": 36,
   "metadata": {},
   "outputs": [
    {
     "data": {
      "text/plain": [
       "1.0"
      ]
     },
     "execution_count": 36,
     "metadata": {},
     "output_type": "execute_result"
    }
   ],
   "source": [
    "np.sum(predictions[0])"
   ]
  },
  {
   "cell_type": "code",
   "execution_count": 37,
   "metadata": {},
   "outputs": [
    {
     "data": {
      "text/plain": [
       "3"
      ]
     },
     "execution_count": 37,
     "metadata": {},
     "output_type": "execute_result"
    }
   ],
   "source": [
    "np.argmax(predictions[0])"
   ]
  },
  {
   "cell_type": "code",
   "execution_count": 39,
   "metadata": {},
   "outputs": [
    {
     "name": "stdout",
     "output_type": "stream",
     "text": [
      "Train on 7982 samples, validate on 1000 samples\n",
      "Epoch 1/20\n",
      "7982/7982 [==============================] - 1s 133us/step - loss: 2.5321 - acc: 0.5149 - val_loss: 1.7736 - val_acc: 0.6190\n",
      "Epoch 2/20\n",
      "7982/7982 [==============================] - 1s 102us/step - loss: 1.5075 - acc: 0.6596 - val_loss: 1.4298 - val_acc: 0.6550\n",
      "Epoch 3/20\n",
      "7982/7982 [==============================] - 1s 99us/step - loss: 1.2338 - acc: 0.7071 - val_loss: 1.3260 - val_acc: 0.6920\n",
      "Epoch 4/20\n",
      "7982/7982 [==============================] - 1s 100us/step - loss: 1.0856 - acc: 0.7377 - val_loss: 1.2830 - val_acc: 0.6910\n",
      "Epoch 5/20\n",
      "7982/7982 [==============================] - 1s 101us/step - loss: 0.9795 - acc: 0.7521 - val_loss: 1.2845 - val_acc: 0.6990\n",
      "Epoch 6/20\n",
      "7982/7982 [==============================] - 1s 100us/step - loss: 0.8932 - acc: 0.7655 - val_loss: 1.2768 - val_acc: 0.6950\n",
      "Epoch 7/20\n",
      "7982/7982 [==============================] - 1s 102us/step - loss: 0.8199 - acc: 0.7828 - val_loss: 1.2785 - val_acc: 0.7070\n",
      "Epoch 8/20\n",
      "7982/7982 [==============================] - 1s 101us/step - loss: 0.7558 - acc: 0.7969 - val_loss: 1.3103 - val_acc: 0.7080\n",
      "Epoch 9/20\n",
      "7982/7982 [==============================] - 1s 101us/step - loss: 0.7027 - acc: 0.8148 - val_loss: 1.3472 - val_acc: 0.7110\n",
      "Epoch 10/20\n",
      "7982/7982 [==============================] - 1s 102us/step - loss: 0.6551 - acc: 0.8261 - val_loss: 1.3695 - val_acc: 0.7100\n",
      "Epoch 11/20\n",
      "7982/7982 [==============================] - 1s 103us/step - loss: 0.6141 - acc: 0.8354 - val_loss: 1.4906 - val_acc: 0.7080\n",
      "Epoch 12/20\n",
      "7982/7982 [==============================] - 1s 103us/step - loss: 0.5819 - acc: 0.8380 - val_loss: 1.4577 - val_acc: 0.7100\n",
      "Epoch 13/20\n",
      "7982/7982 [==============================] - 1s 104us/step - loss: 0.5501 - acc: 0.8433 - val_loss: 1.5195 - val_acc: 0.7100\n",
      "Epoch 14/20\n",
      "7982/7982 [==============================] - 1s 104us/step - loss: 0.5217 - acc: 0.8474 - val_loss: 1.5234 - val_acc: 0.7140\n",
      "Epoch 15/20\n",
      "7982/7982 [==============================] - 1s 108us/step - loss: 0.4984 - acc: 0.8567 - val_loss: 1.6224 - val_acc: 0.6950\n",
      "Epoch 16/20\n",
      "7982/7982 [==============================] - 1s 106us/step - loss: 0.4747 - acc: 0.8637 - val_loss: 1.6230 - val_acc: 0.7120\n",
      "Epoch 17/20\n",
      "7982/7982 [==============================] - 1s 105us/step - loss: 0.4537 - acc: 0.8712 - val_loss: 1.6495 - val_acc: 0.7120\n",
      "Epoch 18/20\n",
      "7982/7982 [==============================] - 1s 106us/step - loss: 0.4352 - acc: 0.8771 - val_loss: 1.7347 - val_acc: 0.7020\n",
      "Epoch 19/20\n",
      "7982/7982 [==============================] - 1s 107us/step - loss: 0.4127 - acc: 0.8831 - val_loss: 1.7294 - val_acc: 0.7070\n",
      "Epoch 20/20\n",
      "7982/7982 [==============================] - 1s 106us/step - loss: 0.4009 - acc: 0.8854 - val_loss: 1.7507 - val_acc: 0.7070\n",
      "2246/2246 [==============================] - 0s 76us/step\n"
     ]
    },
    {
     "data": {
      "text/plain": [
       "[1.8795596782585817, 0.7030276046835304]"
      ]
     },
     "execution_count": 39,
     "metadata": {},
     "output_type": "execute_result"
    }
   ],
   "source": [
    "model = models.Sequential()\n",
    "model.add(layers.Dense(64, activation='relu', input_shape=(10000, )))\n",
    "model.add(layers.Dense(4, activation='relu')) # 極端に少ない隠れユニット数の中間層\n",
    "model.add(layers.Dense(46, activation='softmax'))\n",
    "\n",
    "model.compile(optimizer='rmsprop',\n",
    "             loss='categorical_crossentropy',\n",
    "             metrics=['accuracy'])\n",
    "\n",
    "model.fit(partial_x_train,\n",
    "          partial_y_train,\n",
    "          epochs=20,\n",
    "          batch_size=128,\n",
    "          validation_data=(x_val, y_val))\n",
    "results = model.evaluate(x_test, one_hot_test_labels)\n",
    "results"
   ]
  }
 ],
 "metadata": {
  "kernelspec": {
   "display_name": "Python 3",
   "language": "python",
   "name": "python3"
  },
  "language_info": {
   "codemirror_mode": {
    "name": "ipython",
    "version": 3
   },
   "file_extension": ".py",
   "mimetype": "text/x-python",
   "name": "python",
   "nbconvert_exporter": "python",
   "pygments_lexer": "ipython3",
   "version": "3.6.5"
  }
 },
 "nbformat": 4,
 "nbformat_minor": 2
}
